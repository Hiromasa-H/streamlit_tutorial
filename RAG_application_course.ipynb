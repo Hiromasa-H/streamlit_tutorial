{
  "cells": [
    {
      "cell_type": "code",
      "execution_count": 1,
      "metadata": {
        "colab": {
          "base_uri": "https://localhost:8080/"
        },
        "id": "ZSUwyGKtLwzd",
        "outputId": "f8594c43-22ce-4a48-916a-d0f02490b32e"
      },
      "outputs": [
        {
          "name": "stdout",
          "output_type": "stream",
          "text": [
            "\u001b[2K     \u001b[90m━━━━━━━━━━━━━━━━━━━━━━━━━━━━━━━━━━━━━━━━\u001b[0m \u001b[32m50.6/50.6 kB\u001b[0m \u001b[31m3.4 MB/s\u001b[0m eta \u001b[36m0:00:00\u001b[0m\n",
            "\u001b[2K   \u001b[90m━━━━━━━━━━━━━━━━━━━━━━━━━━━━━━━━━━━━━━━━\u001b[0m \u001b[32m2.4/2.4 MB\u001b[0m \u001b[31m46.1 MB/s\u001b[0m eta \u001b[36m0:00:00\u001b[0m\n",
            "\u001b[2K   \u001b[90m━━━━━━━━━━━━━━━━━━━━━━━━━━━━━━━━━━━━━━━━\u001b[0m \u001b[32m1.0/1.0 MB\u001b[0m \u001b[31m40.7 MB/s\u001b[0m eta \u001b[36m0:00:00\u001b[0m\n",
            "\u001b[2K   \u001b[90m━━━━━━━━━━━━━━━━━━━━━━━━━━━━━━━━━━━━━━━━\u001b[0m \u001b[32m408.0/408.0 kB\u001b[0m \u001b[31m22.7 MB/s\u001b[0m eta \u001b[36m0:00:00\u001b[0m\n",
            "\u001b[2K   \u001b[90m━━━━━━━━━━━━━━━━━━━━━━━━━━━━━━━━━━━━━━━━\u001b[0m \u001b[32m296.9/296.9 kB\u001b[0m \u001b[31m17.2 MB/s\u001b[0m eta \u001b[36m0:00:00\u001b[0m\n",
            "\u001b[2K   \u001b[90m━━━━━━━━━━━━━━━━━━━━━━━━━━━━━━━━━━━━━━━━\u001b[0m \u001b[32m76.4/76.4 kB\u001b[0m \u001b[31m5.0 MB/s\u001b[0m eta \u001b[36m0:00:00\u001b[0m\n",
            "\u001b[2K   \u001b[90m━━━━━━━━━━━━━━━━━━━━━━━━━━━━━━━━━━━━━━━━\u001b[0m \u001b[32m78.0/78.0 kB\u001b[0m \u001b[31m5.1 MB/s\u001b[0m eta \u001b[36m0:00:00\u001b[0m\n",
            "\u001b[2K   \u001b[90m━━━━━━━━━━━━━━━━━━━━━━━━━━━━━━━━━━━━━━━━\u001b[0m \u001b[32m49.5/49.5 kB\u001b[0m \u001b[31m3.1 MB/s\u001b[0m eta \u001b[36m0:00:00\u001b[0m\n",
            "\u001b[2K   \u001b[90m━━━━━━━━━━━━━━━━━━━━━━━━━━━━━━━━━━━━━━━━\u001b[0m \u001b[32m144.5/144.5 kB\u001b[0m \u001b[31m10.0 MB/s\u001b[0m eta \u001b[36m0:00:00\u001b[0m\n",
            "\u001b[2K   \u001b[90m━━━━━━━━━━━━━━━━━━━━━━━━━━━━━━━━━━━━━━━━\u001b[0m \u001b[32m54.5/54.5 kB\u001b[0m \u001b[31m3.5 MB/s\u001b[0m eta \u001b[36m0:00:00\u001b[0m\n",
            "\u001b[2K   \u001b[90m━━━━━━━━━━━━━━━━━━━━━━━━━━━━━━━━━━━━━━━━\u001b[0m \u001b[32m58.3/58.3 kB\u001b[0m \u001b[31m3.5 MB/s\u001b[0m eta \u001b[36m0:00:00\u001b[0m\n",
            "\u001b[?25h"
          ]
        }
      ],
      "source": [
        "%pip install -qU langchain_community"
      ]
    },
    {
      "cell_type": "markdown",
      "metadata": {
        "id": "L3-VEVovLx5V"
      },
      "source": [
        "# データの前処理"
      ]
    },
    {
      "cell_type": "markdown",
      "metadata": {
        "id": "rY3uiQw2OFv3"
      },
      "source": [
        "## データの読み込み"
      ]
    },
    {
      "cell_type": "code",
      "execution_count": 1,
      "metadata": {
        "id": "sSLLGzMwb_-7"
      },
      "outputs": [],
      "source": [
        "from langchain_core.documents import Document"
      ]
    },
    {
      "cell_type": "markdown",
      "metadata": {
        "id": "lX4x1ltBOUGa"
      },
      "source": [
        "### PDFの読み込み"
      ]
    },
    {
      "cell_type": "code",
      "execution_count": 2,
      "metadata": {
        "colab": {
          "base_uri": "https://localhost:8080/"
        },
        "id": "7F8UndjyOWxl",
        "outputId": "390e5703-c6bc-41cd-fd9a-9065c2cd6434"
      },
      "outputs": [
        {
          "name": "stdout",
          "output_type": "stream",
          "text": [
            "Note: you may need to restart the kernel to use updated packages.\n"
          ]
        }
      ],
      "source": [
        "%pip install -qU pypdf"
      ]
    },
    {
      "cell_type": "code",
      "execution_count": 6,
      "metadata": {
        "id": "wgrsk2SYL2pI"
      },
      "outputs": [],
      "source": [
        "from langchain_community.document_loaders import PyPDFLoader, PyPDFDirectoryLoader\n",
        "import os\n",
        "\n",
        "DIR_PATH = \"documents\"\n",
        "FILE_PATH = \"/content/sample_pdf_data/sample.pdf\"\n",
        "\n",
        "def load_PDFs_from_dir(dir_path:str)->list[Document]:\n",
        "  loader = PyPDFDirectoryLoader(dir_path, glob=\"*.pdf\")\n",
        "  documents = loader.load()\n",
        "  return documents\n",
        "\n",
        "def load_PDF_from_path(file_path:str)->list[Document]:\n",
        "  loader = PyPDFLoader(file_path)\n",
        "  documents = loader.load()\n",
        "  return documents"
      ]
    },
    {
      "cell_type": "code",
      "execution_count": 7,
      "metadata": {
        "id": "n2rR8tmgXeqI"
      },
      "outputs": [],
      "source": [
        "docs = load_PDFs_from_dir(DIR_PATH)"
      ]
    },
    {
      "cell_type": "code",
      "execution_count": 9,
      "metadata": {
        "colab": {
          "base_uri": "https://localhost:8080/"
        },
        "collapsed": true,
        "id": "d3iaxnU4brU1",
        "outputId": "d3230460-45f7-4082-b6eb-91fff77ed684"
      },
      "outputs": [
        {
          "name": "stdout",
          "output_type": "stream",
          "text": [
            "docs配列の長さ（pdfの合計ファイル数ではなく、pdfの合計ページ数）：\n",
            "2 \n",
            "---------\n",
            "1つ目のドキュメントのメタデータ（ソースのパスと、ページ番号が書かれていることに着目）：\n",
            "{'source': 'documents/スマート学習アシスタントSLA.pdf', 'page': 1} \n",
            "---------\n",
            "1つ目のドキュメントの中身：\n",
            "基本設計・詳細設計\n",
            "2024\n",
            "年\n",
            "4\n",
            "月\n",
            " - 6\n",
            "月\n",
            "プラットフォームのアーキテクチャと機能設計\n",
            "開発フェーズ\n",
            "2024\n",
            "年\n",
            "7\n",
            "月\n",
            " - 12\n",
            "月\n",
            "プラットフォームの開発・テスト\n",
            "ベータ版リリース\n",
            "2025\n",
            "年\n",
            "1\n",
            "月\n",
            "初期リリース版の公開とフィードバック収集\n",
            "本リリース\n",
            "2025\n",
            "年\n",
            "4\n",
            "月\n",
            "フィードバックを反映した本リリース\n",
            "フェーズ\n",
            "フェーズ\n",
            "期間\n",
            "期間\n",
            "目標\n",
            "目標\n",
            "7. \n",
            "7. \n",
            "期待される成果\n",
            "期待される成果\n",
            "学習者の\n",
            "学習者の\n",
            "AI\n",
            "AI\n",
            "スキルの向上\n",
            "スキルの向上\n",
            "AI\n",
            "AI\n",
            "人材育成に関する教育機関や企業からの関心の増加\n",
            "人材育成に関する教育機関や企業からの関心の増加\n",
            "AI\n",
            "AI\n",
            "学習におけるオンライン教育の標準的なプラットフォームの確立\n",
            "学習におけるオンライン教育の標準的なプラットフォームの確立\n",
            "8. \n",
            "8. \n",
            "今後の課題\n",
            "今後の課題\n",
            "スケーラビリティ\n",
            "スケーラビリティ\n",
            ": \n",
            "学習者が増加した際に、スムーズな操作とフィードバックが提供できるシステムの拡張。\n",
            "新技術対応\n",
            "新技術対応\n",
            ": \n",
            "最新の\n",
            "AI\n",
            "技術やフレームワークに対応し、カリキュラムを常にアップデートする体制の整備。\n",
            "ユーザーエクスペリエンス\n",
            "ユーザーエクスペリエンス\n",
            ": \n",
            "学習継続率を高めるためのインターフェースやインタラクション設計の最適化。\n",
            "9. \n",
            "9. \n",
            "お問い合わせ先\n",
            "お問い合わせ先\n",
            "プロジェクトに関するご質問や詳細については、以下のメールアドレスにご連絡ください。\n",
            "E\n",
            "E\n",
            "メール\n",
            "メール\n",
            ": \n",
            "support@smartedu-ai.com\n",
            "電話番号\n",
            "電話番号\n",
            ": 03-1234-5678\n",
            "以上\n"
          ]
        }
      ],
      "source": [
        "print(f'docs配列の長さ（pdfの合計ファイル数ではなく、pdfの合計ページ数）：\\n{len(docs)} \\n---------') #\n",
        "print(f'1つ目のドキュメントのメタデータ（ソースのパスと、ページ番号が書かれていることに着目）：\\n{docs[1].metadata} \\n---------') #\n",
        "print(f'1つ目のドキュメントの中身：\\n{docs[1].page_content}')"
      ]
    },
    {
      "cell_type": "markdown",
      "metadata": {
        "id": "9AkOQIv-i22D"
      },
      "source": [
        "### htmlの読み込み"
      ]
    },
    {
      "cell_type": "code",
      "execution_count": null,
      "metadata": {
        "id": "kUPAszsCjPBF"
      },
      "outputs": [],
      "source": [
        "from langchain_community.document_loaders import BSHTMLLoader\n",
        "import os\n",
        "import glob\n",
        "\n",
        "def load_html_from_dir(dir_path:str) -> list[Document]:\n",
        "  documents = []\n",
        "  file_paths = glob.glob(os.path.join(dir_path, '*.html'))\n",
        "  for file_path in file_paths:\n",
        "    loader = BSHTMLLoader(file_path)\n",
        "    documents += loader.load()\n",
        "  return documents\n",
        "\n",
        "def load_html_from_path(file_path:str) -> list[Document]:\n",
        "  loader = BSHTMLLoader(file_path)\n",
        "  documents = loader.load()\n",
        "  return documents"
      ]
    },
    {
      "cell_type": "code",
      "execution_count": null,
      "metadata": {
        "colab": {
          "base_uri": "https://localhost:8080/"
        },
        "id": "yjNqH-16jXlc",
        "outputId": "1e6dd28c-b4de-4b4f-935c-199fc8ac6248"
      },
      "outputs": [
        {
          "data": {
            "text/plain": [
              "[Document(metadata={'source': '/content/sample_data/langchain_sample.html', 'title': 'HTML | 🦜️🔗 LangChain'}, page_content='\\n\\n\\n\\nHTML | 🦜️🔗 LangChain\\n\\n\\n\\n\\n\\n\\nSkip to main contentA newer LangChain version is out! Check out the latest version.ComponentsIntegrationsGuidesAPI ReferenceMorePeopleVersioningContributingTemplatesCookbooksTutorialsYouTubev0.1Latestv0.2v0.1🦜️🔗LangSmithLangSmith DocsLangServe GitHubTemplates GitHubTemplates HubLangChain HubJS/TS Docs💬Search⌘KModel I/OPromptsChat modelsLLMsOutput parsersRetrievalDocument loadersDocument loadersCustom Document LoaderCSVFile DirectoryHTMLJSONMarkdownMicrosoft OfficePDFText splittersEmbedding modelsVector storesRetrieversIndexingCompositionToolsAgentsChainsMoreComponentsThis is documentation for LangChain v0.1, which is no longer actively maintained.For the current stable version, see this version (Latest).RetrievalDocument loadersHTMLOn this pageHTMLThe HyperText Markup Language or HTML is the standard markup language for documents designed to be displayed in a web browser.This covers how to load HTML documents into a document format that we can use downstream.from langchain_community.document_loaders import UnstructuredHTMLLoaderAPI Reference:UnstructuredHTMLLoaderloader = UnstructuredHTMLLoader(\"example_data/fake-content.html\")data = loader.load()data    [Document(page_content=\\'My First Heading\\\\n\\\\nMy first paragraph.\\', lookup_str=\\'\\', metadata={\\'source\\': \\'example_data/fake-content.html\\'}, lookup_index=0)]Loading HTML with BeautifulSoup4\\u200bWe can also use BeautifulSoup4 to load HTML documents using the BSHTMLLoader.  This will extract the text from the HTML into page_content, and the page title as title into metadata.from langchain_community.document_loaders import BSHTMLLoaderAPI Reference:BSHTMLLoaderloader = BSHTMLLoader(\"example_data/fake-content.html\")data = loader.load()data    [Document(page_content=\\'\\\\n\\\\nTest Title\\\\n\\\\n\\\\nMy First Heading\\\\nMy first paragraph.\\\\n\\\\n\\\\n\\', metadata={\\'source\\': \\'example_data/fake-content.html\\', \\'title\\': \\'Test Title\\'})]Loading HTML with SpiderLoader\\u200bSpider is the fastest\\n crawler. It converts any website into pure HTML, markdown, metadata or \\ntext while enabling you to crawl with custom actions using AI.Spider\\n allows you to use high performance proxies to prevent detection, caches\\n AI actions, webhooks for crawling status, scheduled crawls etc... Prerequisite\\u200bYou need to have a Spider api key to use this loader. You can get one on spider.cloud.%pip install --upgrade --quiet  langchain langchain-community spider-clientfrom langchain_community.document_loaders import SpiderLoaderloader = SpiderLoader(    api_key=\"YOUR_API_KEY\", url=\"https://spider.cloud\", mode=\"crawl\")data = loader.load()API Reference:SpiderLoaderFor guides and documentation, visit SpiderLoading HTML with FireCrawlLoader\\u200bFireCrawl\\n crawls and convert any website into markdown. It crawls all accessible \\nsubpages and give you clean markdown and metadata for each.FireCrawl handles complex tasks such as reverse proxies, caching, rate limits, and content blocked by JavaScript.Prerequisite\\u200bYou need to have a FireCrawl API key to use this loader. You can get one by signing up at FireCrawl.%pip install --upgrade --quiet  langchain langchain-community firecrawl-pyfrom langchain_community.document_loaders import FireCrawlLoaderloader = FireCrawlLoader(    api_key=\"YOUR_API_KEY\", url=\"https://firecrawl.dev\", mode=\"crawl\")data = loader.load()API Reference:FireCrawlLoaderFor more information on how to use FireCrawl, visit FireCrawl.Loading HTML with AzureAIDocumentIntelligenceLoader\\u200bAzure AI Document Intelligence (formerly known as Azure Form Recognizer)\\n is machine-learning\\nbased service that extracts texts (including handwriting), tables, \\ndocument structures (e.g., titles, section headings, etc.) and \\nkey-value-pairs from\\ndigital or scanned PDFs, images, Office and HTML files. Document \\nIntelligence supports PDF, JPEG/JPG, PNG, BMP, TIFF, HEIF, DOCX, XLSX, PPTX and HTML.This current implementation of a loader using Document Intelligence\\n can incorporate content page-wise and turn it into LangChain documents.\\n The default output format is markdown, which can be easily chained with\\n MarkdownHeaderTextSplitter for semantic document chunking. You can also use mode=\"single\" or mode=\"page\" to return pure texts in a single page or document split by page.Prerequisite\\u200bAn Azure AI Document Intelligence resource in one of the 3 preview regions: East US, West US2, West Europe - follow this document to create one if you don\\'t have. You will be passing <endpoint> and <key> as parameters to the loader.%pip install --upgrade --quiet  langchain langchain-community azure-ai-documentintelligencefrom langchain_community.document_loaders import AzureAIDocumentIntelligenceLoaderfile_path = \"<filepath>\"endpoint = \"<endpoint>\"key = \"<key>\"loader = AzureAIDocumentIntelligenceLoader(    api_endpoint=endpoint, api_key=key, file_path=file_path, api_model=\"prebuilt-layout\")documents = loader.load()API Reference:AzureAIDocumentIntelligenceLoaderHelp us out by providing feedback on this documentation page:PreviousFile DirectoryNextJSONLoading HTML with BeautifulSoup4Loading HTML with SpiderLoaderPrerequisiteLoading HTML with FireCrawlLoaderPrerequisiteLoading HTML with AzureAIDocumentIntelligenceLoaderPrerequisiteCommunityDiscordTwitterGitHubPythonJS/TSMoreHomepageBlogYouTubeCopyright © 2024 LangChain, Inc.\\n\\n\\n')]"
            ]
          },
          "execution_count": 14,
          "metadata": {},
          "output_type": "execute_result"
        }
      ],
      "source": [
        "load_html_from_dir('/content/sample_data/')"
      ]
    },
    {
      "cell_type": "markdown",
      "metadata": {
        "id": "0_IbeKh-Yax8"
      },
      "source": [
        "### markdownの読み込み"
      ]
    },
    {
      "cell_type": "code",
      "execution_count": null,
      "metadata": {
        "id": "g7OCGPGnZQci"
      },
      "outputs": [],
      "source": [
        "!pip install -qU nltk"
      ]
    },
    {
      "cell_type": "code",
      "execution_count": null,
      "metadata": {
        "id": "DpNzoXCMiJQR"
      },
      "outputs": [],
      "source": [
        "from langchain_community.document_loaders import UnstructuredMarkdownLoader\n",
        "from langchain.document_loaders import DirectoryLoader\n",
        "\n",
        "def load_markdowns_from_dir(dir_path:str)->list[Document]:\n",
        "  loader = DirectoryLoader(dir_path, glob=\"*.md\")\n",
        "  documents = loader.load()\n",
        "  return documents\n",
        "\n",
        "def load_markdown_from_path(file_path:str)->list[Document]:\n",
        "  loader = UnstructuredMarkdownLoader(file_path)\n",
        "  documents = loader.load()\n",
        "  return documents"
      ]
    },
    {
      "cell_type": "code",
      "execution_count": null,
      "metadata": {
        "id": "SuBwiGLLYzh-"
      },
      "outputs": [],
      "source": [
        "DIR_PATH = '/content/sample_data/SLA_out/スマート学習アシスタントSLA'\n",
        "docs = load_markdowns_from_dir(DIR_PATH) #Documentクラスが格納されたリスト"
      ]
    },
    {
      "cell_type": "code",
      "execution_count": null,
      "metadata": {
        "colab": {
          "base_uri": "https://localhost:8080/"
        },
        "collapsed": true,
        "id": "-tCA70wdZevi",
        "outputId": "4bab2fbb-1774-4609-b9df-777e499800a0"
      },
      "outputs": [
        {
          "name": "stdout",
          "output_type": "stream",
          "text": [
            "docs配列の長さ：\n",
            "1 \n",
            " ---------\n",
            "1つ目のドキュメントのメタデータ：\n",
            "{'source': '/content/sample_data/SLA_out/スマート学習アシスタントSLA/スマート学習アシスタントSLA.md'} \n",
            "---------\n",
            "1つ目のドキュメントの中身：\n",
            "プロジェクト概要資料 - Smartedu Ai Platform\n",
            "\n",
            "1. プロジェクト名\n",
            "\n",
            "SmartEdu AI Platform\n",
            "\n",
            "2. プロジェクトの目的\n",
            "\n",
            "目的: SmartEdu AI Platformは、AIエンジニアやデータサイエンティストを目指す学生やエンジニアに向けた、実践的なAI学習プラットフォームの構築を目指してい ます。このプラットフォームでは、初心者から上級者まで幅広いレベルに対応したカリキュラムを提供し、AI技術の理解と実践スキルの向上を支援します。\n",
            "\n",
            "3. プロジェクトの背景\n",
            "\n",
            "AI技術の需要が急速に高まる中、企業や教育機関ではAIエンジニアの育成が重要な課題となっています。多くの人がAIを学びたいと考えていますが、専門的な知識 や技術を独学で習得するのは難しく、効果的な学習方法が不足しているのが現状です。そこで、SmartEdu AI Platformは以下のような背景をもとに開発されまし た。\n",
            "\n",
            "スキル不足の解消: AIの専門知識とスキルを持つ人材の育成を支援するため。 教育のデジタル化推進: オンライン学習プラットフォームを活用し、教育機関でのAI学習の導入をサポートするため。 実践的な学習体験: リアルタイムのフィードバックやプロジェクトベースの課題提供で、学習効果の高い環境を提供。\n",
            "\n",
            "4. ターゲットユーザー\n",
            "\n",
            "以下の層を主なターゲットユーザーとしています。\n",
            "\n",
            "AIエンジニアを目指す大学生 2. 技術者育成に取り組む企業 3. データサイエンスやAIに興味を持つ社会人学習者\n",
            "\n",
            "5. プラットフォームの提供機能\n",
            "\n",
            "SmartEdu AI Platformは、以下の主要機能を提供します。\n",
            "\n",
            "5.1 カリキュラム管理機能 学習者のレベルに応じたAI・データサイエンスのカリキュラムを提供し、進捗管理ができる機能です。\n",
            "\n",
            "5.2 コーディング環境 オンライン上でプログラミング学習が可能なエディタ機能を提供し、実践的なスキルをすぐに試せる環境を構築します。\n",
            "\n",
            "5.3 リアルタイムフィードバック 学習者がコードや回答を提出すると、リアルタイムでフィードバックが得られる機能です。間違いの指摘や改善点の提案などを自動で行います。\n",
            "\n",
            "5.4 コミュニティサポート 他の学習者や講師と質問や議論ができるフォーラムを提供し、学習効果の向上を支援します。\n",
            "\n",
            "6. プロジェクトのスケジュール\n",
            "\n",
            "プロジェクトは以下のスケジュールで進行予定です。\n",
            "\n",
            "フェーズ 期間 目標 企画・要件定義 2024年1月 - 3月 プロジェクトの方向性を決定し、ユーザー要件を明確化\n",
            "\n",
            "基本設計・詳細設計 2024年4月 - 6月 プラットフォームのアーキテクチャと機能設計 フェーズ 期間 目標 開発フェーズ 2024年7月 - 12月 プラットフォームの開発・テスト ベータ版リリース 2025年1月 初期リリース版の公開とフィードバック収集 本リリース 2025年4月 フィードバックを反映した本リリース\n",
            "\n",
            "7. 期待される成果\n",
            "\n",
            "学習者のAIスキルの向上 AI人材育成に関する教育機関や企業からの関心の増加 AI学習におけるオンライン教育の標準的なプラットフォームの確立\n",
            "\n",
            "8. 今後の課題\n",
            "\n",
            "スケーラビリティ: 学習者が増加した際に、スムーズな操作とフィードバックが提供できるシステムの拡張。\n",
            "\n",
            "新技術対応: 最新のAI技術やフレームワークに対応し、カリキュラムを常にアップデートする体制の整備。\n",
            "\n",
            "ユーザーエクスペリエンス: 学習継続率を高めるためのインターフェースやインタラクション設計の最適化。\n",
            "\n",
            "9. お問い合わせ先\n",
            "\n",
            "プロジェクトに関するご質問や詳細については、以下のメールアドレスにご連絡ください。\n",
            "\n",
            "Eメール: support@smartedu-ai.com 電話番号: 03-1234-5678 以上\n"
          ]
        }
      ],
      "source": [
        "print(f'docs配列の長さ：\\n{len(docs)} \\n ---------')\n",
        "print(f'1つ目のドキュメントのメタデータ：\\n{docs[0].metadata} \\n---------')\n",
        "print(f'1つ目のドキュメントの中身：\\n{docs[0].page_content}')"
      ]
    },
    {
      "cell_type": "markdown",
      "metadata": {
        "id": "3H6dlRYdYfNI"
      },
      "source": [
        "### +α PDFからmarkdown生成をする方法"
      ]
    },
    {
      "cell_type": "code",
      "execution_count": null,
      "metadata": {
        "id": "TFdJk9rIYlzX"
      },
      "outputs": [],
      "source": [
        "#TODO"
      ]
    },
    {
      "cell_type": "markdown",
      "metadata": {
        "id": "Id7iu0WFYaEa"
      },
      "source": [
        "## Chunk分け"
      ]
    },
    {
      "cell_type": "code",
      "execution_count": 10,
      "metadata": {
        "id": "NJs_6Z7SYcB6"
      },
      "outputs": [],
      "source": [
        "from langchain_text_splitters import RecursiveCharacterTextSplitter\n",
        "text_splitter = RecursiveCharacterTextSplitter(\n",
        "    chunk_size=100,\n",
        "    chunk_overlap=20,\n",
        "    length_function=len,\n",
        "    keep_separator=False\n",
        ")"
      ]
    },
    {
      "cell_type": "code",
      "execution_count": 12,
      "metadata": {
        "id": "hXPlSJVdcSfy"
      },
      "outputs": [],
      "source": [
        "docs = load_PDFs_from_dir('documents')"
      ]
    },
    {
      "cell_type": "code",
      "execution_count": 13,
      "metadata": {
        "id": "oyQXQAVfbSPh"
      },
      "outputs": [],
      "source": [
        "chunks = text_splitter.split_documents(docs)"
      ]
    },
    {
      "cell_type": "code",
      "execution_count": 14,
      "metadata": {
        "colab": {
          "base_uri": "https://localhost:8080/"
        },
        "id": "BzG86-nwchKu",
        "outputId": "d50b3615-7bc2-41b3-d067-ba7229be82ee"
      },
      "outputs": [
        {
          "name": "stdout",
          "output_type": "stream",
          "text": [
            "chunkの数：28\n",
            "---------\n",
            "1つ目のchunkの中身：\n",
            "page_content='プロジェクト概要資料\n",
            "プロジェクト概要資料\n",
            " - SmartEdu AI Platform\n",
            " - SmartEdu AI Platform\n",
            "1. \n",
            "1. \n",
            "プロジェクト名\n",
            "プロジェクト名' metadata={'source': 'documents/スマート学習アシスタントSLA.pdf', 'page': 0}\n",
            "---------\n",
            "文章がchunk_overlap分重複していることを確認：\n",
            "2つ目のchunkの中身：\n",
            "page_content='1. \n",
            "プロジェクト名\n",
            "プロジェクト名\n",
            "SmartEdu AI Platform\n",
            "SmartEdu AI Platform\n",
            "2. \n",
            "2. \n",
            "プロジェクトの目的\n",
            "プロジェクトの目的\n",
            "目的\n",
            "目的' metadata={'source': 'documents/スマート学習アシスタントSLA.pdf', 'page': 0}\n",
            "3つ目のchunkの中身：\n",
            "page_content='プロジェクトの目的\n",
            "目的\n",
            "目的\n",
            ": SmartEdu AI Platform\n",
            "は、\n",
            "AI\n",
            "エンジニアやデータサイエンティストを目指す学生やエンジニアに向けた、実践的な\n",
            "AI' metadata={'source': 'documents/スマート学習アシスタントSLA.pdf', 'page': 0}\n",
            "---------\n"
          ]
        }
      ],
      "source": [
        "print(f\"chunkの数：{len(chunks)}\\n---------\")\n",
        "print(f\"1つ目のchunkの中身：\\n{chunks[0]}\\n---------\")\n",
        "print(\"文章がchunk_overlap分重複していることを確認：\")\n",
        "print(f\"2つ目のchunkの中身：\\n{chunks[1]}\")\n",
        "print(f\"3つ目のchunkの中身：\\n{chunks[2]}\\n---------\")"
      ]
    },
    {
      "cell_type": "markdown",
      "metadata": {
        "id": "JSLqDMO_bhBS"
      },
      "source": [
        "## データのベクトル化"
      ]
    },
    {
      "cell_type": "code",
      "execution_count": 17,
      "metadata": {
        "colab": {
          "base_uri": "https://localhost:8080/"
        },
        "id": "MBX2RXopBtP_",
        "outputId": "2f1d60e7-55f9-4c68-9969-0e2ea9439d17"
      },
      "outputs": [
        {
          "name": "stdout",
          "output_type": "stream",
          "text": [
            "\u001b[?25l     \u001b[90m━━━━━━━━━━━━━━━━━━━━━━━━━━━━━━━━━━━━━━━━\u001b[0m \u001b[32m0.0/67.3 kB\u001b[0m \u001b[31m?\u001b[0m eta \u001b[36m-:--:--\u001b[0m\r\u001b[2K     \u001b[90m━━━━━━━━━━━━━━━━━━━━━━━━━━━━━━━━━━━━━━━━\u001b[0m \u001b[32m67.3/67.3 kB\u001b[0m \u001b[31m3.9 MB/s\u001b[0m eta \u001b[36m0:00:00\u001b[0m\n",
            "\u001b[?25h  Installing build dependencies ... \u001b[?25l\u001b[?25hdone\n",
            "  Getting requirements to build wheel ... \u001b[?25l\u001b[?25hdone\n",
            "  Preparing metadata (pyproject.toml) ... \u001b[?25l\u001b[?25hdone\n",
            "\u001b[2K   \u001b[90m━━━━━━━━━━━━━━━━━━━━━━━━━━━━━━━━━━━━━━━━\u001b[0m \u001b[32m607.0/607.0 kB\u001b[0m \u001b[31m18.6 MB/s\u001b[0m eta \u001b[36m0:00:00\u001b[0m\n",
            "\u001b[2K   \u001b[90m━━━━━━━━━━━━━━━━━━━━━━━━━━━━━━━━━━━━━━━━\u001b[0m \u001b[32m2.4/2.4 MB\u001b[0m \u001b[31m65.3 MB/s\u001b[0m eta \u001b[36m0:00:00\u001b[0m\n",
            "\u001b[2K   \u001b[90m━━━━━━━━━━━━━━━━━━━━━━━━━━━━━━━━━━━━━━━━\u001b[0m \u001b[32m94.6/94.6 kB\u001b[0m \u001b[31m7.0 MB/s\u001b[0m eta \u001b[36m0:00:00\u001b[0m\n",
            "\u001b[2K   \u001b[90m━━━━━━━━━━━━━━━━━━━━━━━━━━━━━━━━━━━━━━━━\u001b[0m \u001b[32m273.8/273.8 kB\u001b[0m \u001b[31m19.4 MB/s\u001b[0m eta \u001b[36m0:00:00\u001b[0m\n",
            "\u001b[2K   \u001b[90m━━━━━━━━━━━━━━━━━━━━━━━━━━━━━━━━━━━━━━━━\u001b[0m \u001b[32m1.9/1.9 MB\u001b[0m \u001b[31m67.4 MB/s\u001b[0m eta \u001b[36m0:00:00\u001b[0m\n",
            "\u001b[2K   \u001b[90m━━━━━━━━━━━━━━━━━━━━━━━━━━━━━━━━━━━━━━━━\u001b[0m \u001b[32m93.2/93.2 kB\u001b[0m \u001b[31m7.3 MB/s\u001b[0m eta \u001b[36m0:00:00\u001b[0m\n",
            "\u001b[2K   \u001b[90m━━━━━━━━━━━━━━━━━━━━━━━━━━━━━━━━━━━━━━━━\u001b[0m \u001b[32m13.2/13.2 MB\u001b[0m \u001b[31m90.7 MB/s\u001b[0m eta \u001b[36m0:00:00\u001b[0m\n",
            "\u001b[2K   \u001b[90m━━━━━━━━━━━━━━━━━━━━━━━━━━━━━━━━━━━━━━━━\u001b[0m \u001b[32m52.5/52.5 kB\u001b[0m \u001b[31m3.7 MB/s\u001b[0m eta \u001b[36m0:00:00\u001b[0m\n",
            "\u001b[2K   \u001b[90m━━━━━━━━━━━━━━━━━━━━━━━━━━━━━━━━━━━━━━━━\u001b[0m \u001b[32m149.7/149.7 kB\u001b[0m \u001b[31m10.5 MB/s\u001b[0m eta \u001b[36m0:00:00\u001b[0m\n",
            "\u001b[2K   \u001b[90m━━━━━━━━━━━━━━━━━━━━━━━━━━━━━━━━━━━━━━━━\u001b[0m \u001b[32m64.0/64.0 kB\u001b[0m \u001b[31m4.4 MB/s\u001b[0m eta \u001b[36m0:00:00\u001b[0m\n",
            "\u001b[2K   \u001b[90m━━━━━━━━━━━━━━━━━━━━━━━━━━━━━━━━━━━━━━━━\u001b[0m \u001b[32m110.5/110.5 kB\u001b[0m \u001b[31m8.0 MB/s\u001b[0m eta \u001b[36m0:00:00\u001b[0m\n",
            "\u001b[2K   \u001b[90m━━━━━━━━━━━━━━━━━━━━━━━━━━━━━━━━━━━━━━━━\u001b[0m \u001b[32m54.4/54.4 kB\u001b[0m \u001b[31m3.8 MB/s\u001b[0m eta \u001b[36m0:00:00\u001b[0m\n",
            "\u001b[2K   \u001b[90m━━━━━━━━━━━━━━━━━━━━━━━━━━━━━━━━━━━━━━━━\u001b[0m \u001b[32m73.2/73.2 kB\u001b[0m \u001b[31m4.7 MB/s\u001b[0m eta \u001b[36m0:00:00\u001b[0m\n",
            "\u001b[2K   \u001b[90m━━━━━━━━━━━━━━━━━━━━━━━━━━━━━━━━━━━━━━━━\u001b[0m \u001b[32m63.7/63.7 kB\u001b[0m \u001b[31m4.2 MB/s\u001b[0m eta \u001b[36m0:00:00\u001b[0m\n",
            "\u001b[2K   \u001b[90m━━━━━━━━━━━━━━━━━━━━━━━━━━━━━━━━━━━━━━━━\u001b[0m \u001b[32m442.1/442.1 kB\u001b[0m \u001b[31m25.2 MB/s\u001b[0m eta \u001b[36m0:00:00\u001b[0m\n",
            "\u001b[2K   \u001b[90m━━━━━━━━━━━━━━━━━━━━━━━━━━━━━━━━━━━━━━━━\u001b[0m \u001b[32m3.8/3.8 MB\u001b[0m \u001b[31m76.1 MB/s\u001b[0m eta \u001b[36m0:00:00\u001b[0m\n",
            "\u001b[2K   \u001b[90m━━━━━━━━━━━━━━━━━━━━━━━━━━━━━━━━━━━━━━━━\u001b[0m \u001b[32m425.7/425.7 kB\u001b[0m \u001b[31m28.6 MB/s\u001b[0m eta \u001b[36m0:00:00\u001b[0m\n",
            "\u001b[2K   \u001b[90m━━━━━━━━━━━━━━━━━━━━━━━━━━━━━━━━━━━━━━━━\u001b[0m \u001b[32m164.1/164.1 kB\u001b[0m \u001b[31m12.2 MB/s\u001b[0m eta \u001b[36m0:00:00\u001b[0m\n",
            "\u001b[2K   \u001b[90m━━━━━━━━━━━━━━━━━━━━━━━━━━━━━━━━━━━━━━━━\u001b[0m \u001b[32m46.0/46.0 kB\u001b[0m \u001b[31m3.0 MB/s\u001b[0m eta \u001b[36m0:00:00\u001b[0m\n",
            "\u001b[2K   \u001b[90m━━━━━━━━━━━━━━━━━━━━━━━━━━━━━━━━━━━━━━━━\u001b[0m \u001b[32m86.8/86.8 kB\u001b[0m \u001b[31m6.1 MB/s\u001b[0m eta \u001b[36m0:00:00\u001b[0m\n",
            "\u001b[?25h  Building wheel for pypika (pyproject.toml) ... \u001b[?25l\u001b[?25hdone\n"
          ]
        }
      ],
      "source": [
        "!pip install -qU langchain_openai langchain_chroma"
      ]
    },
    {
      "cell_type": "code",
      "execution_count": 20,
      "metadata": {
        "colab": {
          "base_uri": "https://localhost:8080/",
          "height": 428
        },
        "id": "binfb0S7bkGq",
        "outputId": "7eee73d3-81f9-4128-ffd0-05c9dc1c523e"
      },
      "outputs": [
        {
          "name": "stdout",
          "output_type": "stream",
          "text": [
            "\n"
          ]
        }
      ],
      "source": [
        "from langchain_openai import OpenAIEmbeddings\n",
        "from langchain_chroma import Chroma\n",
        "\n",
        "embeddings_model = OpenAIEmbeddings(model='text-embedding-3-small')\n",
        "\n",
        "vector_db = Chroma(\n",
        "        collection_name='rag_app_collection',\n",
        "        embedding_function=embeddings_model,\n",
        "        persist_directory='database/ChromaDB'\n",
        "        )\n",
        "vector_db.add_documents(documents=chunks)\n",
        "print('')"
      ]
    },
    {
      "cell_type": "code",
      "execution_count": 22,
      "metadata": {
        "id": "jKTVk1D86Jqe"
      },
      "outputs": [],
      "source": [
        "query='担当者の連絡先を教えて'\n",
        "contexts = vector_db.similarity_search_with_relevance_scores(query,\n",
        "                                                             k=5,\n",
        "                                                             score_threshold=0.1)\n"
      ]
    },
    {
      "cell_type": "code",
      "execution_count": 24,
      "metadata": {},
      "outputs": [
        {
          "data": {
            "text/plain": [
              "[(Document(metadata={'page': 1, 'source': 'documents/スマート学習アシスタントSLA.pdf'}, page_content='9. \\nお問い合わせ先\\nお問い合わせ先\\nプロジェクトに関するご質問や詳細については、以下のメールアドレスにご連絡ください。\\nE\\nE\\nメール\\nメール\\n: \\nsupport@smartedu-ai.com'),\n",
              "  0.16628382803471808),\n",
              " (Document(metadata={'page': 1, 'source': 'documents/スマート学習アシスタントSLA.pdf'}, page_content='9. \\nお問い合わせ先\\nお問い合わせ先\\nプロジェクトに関するご質問や詳細については、以下のメールアドレスにご連絡ください。\\nE\\nE\\nメール\\nメール\\n: \\nsupport@smartedu-ai.com'),\n",
              "  0.16621162596694794)]"
            ]
          },
          "execution_count": 24,
          "metadata": {},
          "output_type": "execute_result"
        }
      ],
      "source": [
        "contexts"
      ]
    },
    {
      "cell_type": "code",
      "execution_count": 27,
      "metadata": {},
      "outputs": [],
      "source": [
        "from langchain_core.prompts import ChatPromptTemplate\n",
        "PROMPT = \"\"\"\n",
        "You are a helpful assistant. Answer the following questions based on the given context:\n",
        "chat history: {CHAT_HISTORY}\n",
        "\n",
        "context: {CONTEXT}\n",
        "\n",
        "Answer the following questions based on the given context:\n",
        "query: {QUERY}\n",
        "\"\"\"\n",
        "chat_history = []\n",
        "prompt = ChatPromptTemplate.from_template(PROMPT)\n",
        "chat_history = '\\n\\n'.join([f\"{message['role']}: {message['content']}\" for message in chat_history])\n",
        "contexts = '\\n'.join([f\"CONTEXT {idx}:\\n{res.page_content}\" for idx, (res, _score) in enumerate(contexts)])\n",
        "prompt = prompt.format(CHAT_HISTORY=chat_history,CONTEXT=contexts, QUERY=query)"
      ]
    },
    {
      "cell_type": "code",
      "execution_count": null,
      "metadata": {},
      "outputs": [],
      "source": []
    }
  ],
  "metadata": {
    "colab": {
      "collapsed_sections": [
        "QUAkNmZyON1p"
      ],
      "provenance": []
    },
    "kernelspec": {
      "display_name": "Python 3",
      "name": "python3"
    },
    "language_info": {
      "codemirror_mode": {
        "name": "ipython",
        "version": 3
      },
      "file_extension": ".py",
      "mimetype": "text/x-python",
      "name": "python",
      "nbconvert_exporter": "python",
      "pygments_lexer": "ipython3",
      "version": "3.9.5"
    }
  },
  "nbformat": 4,
  "nbformat_minor": 0
}
